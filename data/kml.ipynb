{
 "cells": [
  {
   "cell_type": "code",
   "execution_count": 1,
   "metadata": {},
   "outputs": [],
   "source": [
    "import geopandas as gpd\n",
    "import pandas as pd\n",
    "import fiona\n",
    "from pyproj import Geod\n",
    "from shapely.geometry import Point, LineString"
   ]
  },
  {
   "cell_type": "code",
   "execution_count": 2,
   "metadata": {},
   "outputs": [],
   "source": [
    "ottawa = Point(-75.7009397259703, 45.42366895982302)\n",
    "projection = 'EPSG:3347'\n",
    "geod = Geod(ellps='WGS84')"
   ]
  },
  {
   "cell_type": "markdown",
   "metadata": {},
   "source": []
  },
  {
   "cell_type": "code",
   "execution_count": 3,
   "metadata": {},
   "outputs": [
    {
     "data": {
      "text/plain": [
       "0      POLYGON Z ((-113.49391 53.52625 0.00000, -113....\n",
       "1      POLYGON Z ((-113.63066 53.57202 0.00000, -113....\n",
       "2      POLYGON Z ((-71.21114 45.60721 0.00000, -71.22...\n",
       "3      POLYGON Z ((-64.70773 49.18449 0.00000, -64.75...\n",
       "4      POLYGON Z ((-61.98547 47.36574 0.00000, -61.98...\n",
       "                             ...                        \n",
       "342    POLYGON Z ((-72.53968 46.40298 0.00000, -72.53...\n",
       "343    POLYGON Z ((-73.52127 45.50464 0.00000, -73.52...\n",
       "344    POLYGON Z ((-73.71036 45.58642 0.00000, -73.71...\n",
       "345    POLYGON Z ((-78.99693 43.89519 0.00000, -78.99...\n",
       "346    POLYGON Z ((-81.27325 49.91208 0.00000, -81.27...\n",
       "Name: geometry, Length: 347, dtype: geometry"
      ]
     },
     "execution_count": 3,
     "metadata": {},
     "output_type": "execute_result"
    }
   ],
   "source": [
    "df = gpd.read_file('districts/json/FED_CA_2019_EN.json')\n",
    "df['geometry'].set_crs('EPSG:4326', inplace=True)"
   ]
  },
  {
   "cell_type": "code",
   "execution_count": 4,
   "metadata": {},
   "outputs": [
    {
     "name": "stderr",
     "output_type": "stream",
     "text": [
      "/home/aomi/.local/share/virtualenvs/seng480d-project-cOYb_Vbp/lib/python3.7/site-packages/ipykernel_launcher.py:1: UserWarning: Geometry is in a geographic CRS. Results from 'centroid' are likely incorrect. Use 'GeoSeries.to_crs()' to re-project geometries to a projected CRS before this operation.\n",
      "\n",
      "  \"\"\"Entry point for launching an IPython kernel.\n"
     ]
    }
   ],
   "source": [
    "df['centroid'] = df['geometry'].centroid\n",
    "df['distance'] = df['centroid'].apply(lambda x: geod.geometry_length(LineString([x, ottawa]))) / 1000\n",
    "\n",
    "df.rename(columns={'name': 'constituency_name'}, inplace=True)\n",
    "df = df[['constituency_name', 'distance', 'centroid']]\n",
    "df['district_year'] = 2019"
   ]
  },
  {
   "cell_type": "code",
   "execution_count": 5,
   "metadata": {},
   "outputs": [],
   "source": [
    "t = gpd.read_file('districts/json/FED_CA_2015_EN.json' )\n",
    "t['geometry'].set_crs('EPSG:4326', inplace=True)\n",
    "\n",
    "m = gpd.read_file('districts/json/FED_CA_2013_EN.json' )\n",
    "m['geometry'].set_crs('EPSG:4326', inplace=True)\n",
    "\n",
    "n = gpd.read_file('districts/json/FED_CA_2011_EN.json.geojson')\n",
    "# n['geometry'] = n['geometry'].to_crs('+proj=lcc +lon_0=-90 +lat_1=33 +lat_2=45')\n",
    "# n['geometry'].set_crs('EPSG:4326', inplace=True)"
   ]
  },
  {
   "cell_type": "code",
   "execution_count": null,
   "metadata": {},
   "outputs": [],
   "source": []
  },
  {
   "cell_type": "code",
   "execution_count": 6,
   "metadata": {},
   "outputs": [
    {
     "name": "stderr",
     "output_type": "stream",
     "text": [
      "/home/aomi/.local/share/virtualenvs/seng480d-project-cOYb_Vbp/lib/python3.7/site-packages/ipykernel_launcher.py:1: UserWarning: Geometry is in a geographic CRS. Results from 'centroid' are likely incorrect. Use 'GeoSeries.to_crs()' to re-project geometries to a projected CRS before this operation.\n",
      "\n",
      "  \"\"\"Entry point for launching an IPython kernel.\n",
      "/home/aomi/.local/share/virtualenvs/seng480d-project-cOYb_Vbp/lib/python3.7/site-packages/ipykernel_launcher.py:7: UserWarning: Geometry is in a geographic CRS. Results from 'centroid' are likely incorrect. Use 'GeoSeries.to_crs()' to re-project geometries to a projected CRS before this operation.\n",
      "\n",
      "  import sys\n"
     ]
    }
   ],
   "source": [
    "t['centroid'] = t['geometry'].centroid\n",
    "t['distance'] = t['centroid'].apply(lambda x: geod.geometry_length(LineString([x, ottawa]))) / 1000\n",
    "t.rename(columns={'ENNAME': 'constituency_name'}, inplace=True)\n",
    "t = t[['constituency_name', 'distance', 'centroid']]\n",
    "t['district_year'] = 2015\n",
    "\n",
    "m['centroid'] = m['geometry'].centroid\n",
    "m['distance'] = m['centroid'].apply(lambda x: geod.geometry_length(LineString([x, ottawa]))) / 1000\n",
    "m.rename(columns={'ENNAME': 'constituency_name'}, inplace=True)\n",
    "m = m[['constituency_name', 'distance', 'centroid']]\n",
    "m['district_year'] = 2013"
   ]
  },
  {
   "cell_type": "code",
   "execution_count": 7,
   "metadata": {},
   "outputs": [
    {
     "name": "stderr",
     "output_type": "stream",
     "text": [
      "/home/aomi/.local/share/virtualenvs/seng480d-project-cOYb_Vbp/lib/python3.7/site-packages/ipykernel_launcher.py:1: UserWarning: Geometry is in a geographic CRS. Results from 'centroid' are likely incorrect. Use 'GeoSeries.to_crs()' to re-project geometries to a projected CRS before this operation.\n",
      "\n",
      "  \"\"\"Entry point for launching an IPython kernel.\n"
     ]
    }
   ],
   "source": [
    "\n",
    "n['centroid'] = n['geometry'].centroid\n",
    "n['distance'] = n['centroid'].apply(lambda x: geod.geometry_length(LineString([x, ottawa]))) / 1000\n",
    "n.rename(columns={'ENNAME': 'constituency_name'}, inplace=True)\n",
    "n = n[['constituency_name', 'distance', 'centroid']]\n",
    "n['district_year'] = 2011"
   ]
  },
  {
   "cell_type": "code",
   "execution_count": 8,
   "metadata": {},
   "outputs": [],
   "source": [
    "x = pd.concat([df, t, m, n], ignore_index=True)\n",
    "x['constituency_name'] = x['constituency_name'].str.replace('--', '—').str.replace('’', \"'\")"
   ]
  },
  {
   "cell_type": "code",
   "execution_count": 9,
   "metadata": {},
   "outputs": [],
   "source": [
    "x[['constituency_name', 'distance', 'district_year']].to_pickle('district_distances.pkl')"
   ]
  },
  {
   "cell_type": "code",
   "execution_count": 10,
   "metadata": {},
   "outputs": [
    {
     "data": {
      "text/html": [
       "<div>\n",
       "<style scoped>\n",
       "    .dataframe tbody tr th:only-of-type {\n",
       "        vertical-align: middle;\n",
       "    }\n",
       "\n",
       "    .dataframe tbody tr th {\n",
       "        vertical-align: top;\n",
       "    }\n",
       "\n",
       "    .dataframe thead th {\n",
       "        text-align: right;\n",
       "    }\n",
       "</style>\n",
       "<table border=\"1\" class=\"dataframe\">\n",
       "  <thead>\n",
       "    <tr style=\"text-align: right;\">\n",
       "      <th></th>\n",
       "      <th>constituency_name</th>\n",
       "      <th>distance</th>\n",
       "      <th>centroid</th>\n",
       "      <th>district_year</th>\n",
       "    </tr>\n",
       "  </thead>\n",
       "  <tbody>\n",
       "    <tr>\n",
       "      <th>71</th>\n",
       "      <td>Beauport—Côte-de-Beaupré—Île d'Orléans—Charlevoix</td>\n",
       "      <td>447.35395</td>\n",
       "      <td>POINT (-70.80679 47.61242)</td>\n",
       "      <td>2019</td>\n",
       "    </tr>\n",
       "    <tr>\n",
       "      <th>636</th>\n",
       "      <td>Beauport—Côte-de-Beaupré—Île d'Orléans—Charlevoix</td>\n",
       "      <td>447.35092</td>\n",
       "      <td>POINT (-70.80680 47.61239)</td>\n",
       "      <td>2015</td>\n",
       "    </tr>\n",
       "    <tr>\n",
       "      <th>1014</th>\n",
       "      <td>Beauport—Côte-de-Beaupré—Île d'Orléans—Charlevoix</td>\n",
       "      <td>447.35092</td>\n",
       "      <td>POINT (-70.80680 47.61239)</td>\n",
       "      <td>2013</td>\n",
       "    </tr>\n",
       "  </tbody>\n",
       "</table>\n",
       "</div>"
      ],
      "text/plain": [
       "                                      constituency_name   distance  \\\n",
       "71    Beauport—Côte-de-Beaupré—Île d'Orléans—Charlevoix  447.35395   \n",
       "636   Beauport—Côte-de-Beaupré—Île d'Orléans—Charlevoix  447.35092   \n",
       "1014  Beauport—Côte-de-Beaupré—Île d'Orléans—Charlevoix  447.35092   \n",
       "\n",
       "                        centroid  district_year  \n",
       "71    POINT (-70.80679 47.61242)           2019  \n",
       "636   POINT (-70.80680 47.61239)           2015  \n",
       "1014  POINT (-70.80680 47.61239)           2013  "
      ]
     },
     "execution_count": 10,
     "metadata": {},
     "output_type": "execute_result"
    }
   ],
   "source": [
    "x['distance'] \n",
    "x[x['constituency_name'].str.contains(\"Beauport—Côte-de-Beaupré—Île d\")]"
   ]
  },
  {
   "cell_type": "code",
   "execution_count": 11,
   "metadata": {},
   "outputs": [
    {
     "ename": "SyntaxError",
     "evalue": "invalid character in identifier (578964789.py, line 1)",
     "output_type": "error",
     "traceback": [
      "\u001b[0;36m  File \u001b[0;32m\"/tmp/ipykernel_13442/578964789.py\"\u001b[0;36m, line \u001b[0;32m1\u001b[0m\n\u001b[0;31m    ’ ''\u001b[0m\n\u001b[0m    ^\u001b[0m\n\u001b[0;31mSyntaxError\u001b[0m\u001b[0;31m:\u001b[0m invalid character in identifier\n"
     ]
    }
   ],
   "source": []
  },
  {
   "cell_type": "code",
   "execution_count": null,
   "metadata": {},
   "outputs": [
    {
     "data": {
      "text/plain": [
       "'+datum=NAD83 +lat_0=63.390675 +lat_1=49 +lat_2=77 +lon_0=-91.8666666666667 +no_defs +proj=lcc +units=m +x_0=6200000 +y_0=3000000'"
      ]
     },
     "execution_count": 78,
     "metadata": {},
     "output_type": "execute_result"
    }
   ],
   "source": [
    "from fiona.crs import to_string\n",
    "c = fiona.open('districts/source/FED_CA_2011_EN/FED_CA_1.0_0_ENG.shx')\n",
    "to_string(c.crs)"
   ]
  },
  {
   "cell_type": "code",
   "execution_count": null,
   "metadata": {},
   "outputs": [],
   "source": []
  }
 ],
 "metadata": {
  "interpreter": {
   "hash": "8e517e20132ac19998296b7c9b70eaedc693755b5be41af3fd1d44c45aee163b"
  },
  "kernelspec": {
   "display_name": "Python 3.9.7 64-bit ('seng480d-project-cOYb_Vbp': pipenv)",
   "language": "python",
   "name": "python3"
  },
  "language_info": {
   "codemirror_mode": {
    "name": "ipython",
    "version": 3
   },
   "file_extension": ".py",
   "mimetype": "text/x-python",
   "name": "python",
   "nbconvert_exporter": "python",
   "pygments_lexer": "ipython3",
   "version": "3.7.12"
  },
  "orig_nbformat": 4
 },
 "nbformat": 4,
 "nbformat_minor": 2
}
